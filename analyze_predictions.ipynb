{
 "cells": [
  {
   "cell_type": "code",
   "execution_count": 10,
   "metadata": {
    "collapsed": true,
    "ExecuteTime": {
     "start_time": "2023-08-09T15:11:14.996985Z",
     "end_time": "2023-08-09T15:11:15.018407Z"
    }
   },
   "outputs": [],
   "source": [
    "import json\n",
    "import pandas as pd\n",
    "import os\n",
    "import shutil\n",
    "\n",
    "def move_videos_to_new_folder(videos_list, source_folder, behavior):\n",
    "    # Create the new subfolder named 'no_predicted_{behavior}'\n",
    "    new_folder = os.path.join(source_folder, f\"no_predicted_{behavior}\")\n",
    "    if not os.path.exists(new_folder):\n",
    "        os.mkdir(new_folder)\n",
    "\n",
    "    # For each video in the list, move it to the new folder if it exists in the source folder\n",
    "    for video_name in videos_list:\n",
    "        source_path = os.path.join(source_folder, video_name)\n",
    "        if os.path.exists(source_path):\n",
    "            destination_path = os.path.join(new_folder, video_name)\n",
    "            shutil.move(source_path, destination_path)\n",
    "            print(f\"Moved {video_name} to no_predicted_{behavior} folder.\")\n",
    "\n",
    "    print(\"Finished moving videos.\")\n",
    "\n",
    "\n",
    "def load_json_to_dataframe(filename):\n",
    "    # Load the JSON file\n",
    "    with open(filename, 'r') as file:\n",
    "        data = json.load(file)\n",
    "\n",
    "    # Extract data for each video and store in a list of dataframes\n",
    "    dfs = []\n",
    "    for video_name, video_data in data.items():\n",
    "        df = pd.DataFrame({\n",
    "            'video_name': video_name,\n",
    "            'clip_index': video_data['clip_index'],\n",
    "            'prediction': video_data['prediction'],\n",
    "            'probs_0': [prob[0] for prob in video_data['probs']],\n",
    "            'probs_1': [prob[1] for prob in video_data['probs']],\n",
    "            'probs_2': [prob[2] for prob in video_data['probs']]\n",
    "        })\n",
    "        dfs.append(df)\n",
    "\n",
    "    # Concatenate all dataframes into a single dataframe\n",
    "    final_df = pd.concat(dfs, ignore_index=True)\n",
    "\n",
    "    return final_df\n",
    "\n",
    "def find_videos_without_behavior(df, behavior):\n",
    "    # Group by 'video_name' and check if any group does not contain the behavior\n",
    "    missing_behavior_videos = []\n",
    "    for video_name, group in df.groupby('video_name'):\n",
    "        if behavior not in group['prediction'].values:\n",
    "            missing_behavior_videos.append(video_name)\n",
    "\n",
    "    return missing_behavior_videos\n",
    "\n"
   ]
  },
  {
   "cell_type": "code",
   "execution_count": 3,
   "outputs": [],
   "source": [
    "filename = r'C:\\Users\\Grover\\Documents\\GitHub\\FruitFlyVideo\\predictions.json'\n",
    "df = load_json_to_dataframe(filename)"
   ],
   "metadata": {
    "collapsed": false,
    "ExecuteTime": {
     "start_time": "2023-08-09T15:03:02.447238Z",
     "end_time": "2023-08-09T15:03:03.469284Z"
    }
   }
  },
  {
   "cell_type": "code",
   "execution_count": 4,
   "outputs": [
    {
     "data": {
      "text/plain": "                                          video_name  clip_index prediction  \\\n0  Fly06242022_5_SD_A_index_21_start_434197_stop_...           0    Pumping   \n1  Fly06242022_5_SD_A_index_21_start_434197_stop_...           1    Pumping   \n2  Fly06242022_5_SD_A_index_21_start_434197_stop_...           2    Pumping   \n3  Fly06242022_5_SD_A_index_21_start_434197_stop_...           3    Pumping   \n4  Fly06242022_5_SD_A_index_21_start_434197_stop_...           4    Pumping   \n\n    probs_0   probs_1   probs_2  \n0  0.076231  0.090014  0.833755  \n1  0.076935  0.086202  0.836863  \n2  0.098722  0.090399  0.810879  \n3  0.082695  0.090882  0.826423  \n4  0.074459  0.080355  0.845186  ",
      "text/html": "<div>\n<style scoped>\n    .dataframe tbody tr th:only-of-type {\n        vertical-align: middle;\n    }\n\n    .dataframe tbody tr th {\n        vertical-align: top;\n    }\n\n    .dataframe thead th {\n        text-align: right;\n    }\n</style>\n<table border=\"1\" class=\"dataframe\">\n  <thead>\n    <tr style=\"text-align: right;\">\n      <th></th>\n      <th>video_name</th>\n      <th>clip_index</th>\n      <th>prediction</th>\n      <th>probs_0</th>\n      <th>probs_1</th>\n      <th>probs_2</th>\n    </tr>\n  </thead>\n  <tbody>\n    <tr>\n      <th>0</th>\n      <td>Fly06242022_5_SD_A_index_21_start_434197_stop_...</td>\n      <td>0</td>\n      <td>Pumping</td>\n      <td>0.076231</td>\n      <td>0.090014</td>\n      <td>0.833755</td>\n    </tr>\n    <tr>\n      <th>1</th>\n      <td>Fly06242022_5_SD_A_index_21_start_434197_stop_...</td>\n      <td>1</td>\n      <td>Pumping</td>\n      <td>0.076935</td>\n      <td>0.086202</td>\n      <td>0.836863</td>\n    </tr>\n    <tr>\n      <th>2</th>\n      <td>Fly06242022_5_SD_A_index_21_start_434197_stop_...</td>\n      <td>2</td>\n      <td>Pumping</td>\n      <td>0.098722</td>\n      <td>0.090399</td>\n      <td>0.810879</td>\n    </tr>\n    <tr>\n      <th>3</th>\n      <td>Fly06242022_5_SD_A_index_21_start_434197_stop_...</td>\n      <td>3</td>\n      <td>Pumping</td>\n      <td>0.082695</td>\n      <td>0.090882</td>\n      <td>0.826423</td>\n    </tr>\n    <tr>\n      <th>4</th>\n      <td>Fly06242022_5_SD_A_index_21_start_434197_stop_...</td>\n      <td>4</td>\n      <td>Pumping</td>\n      <td>0.074459</td>\n      <td>0.080355</td>\n      <td>0.845186</td>\n    </tr>\n  </tbody>\n</table>\n</div>"
     },
     "execution_count": 4,
     "metadata": {},
     "output_type": "execute_result"
    }
   ],
   "source": [
    "df.head()"
   ],
   "metadata": {
    "collapsed": false,
    "ExecuteTime": {
     "start_time": "2023-08-09T15:03:16.591765Z",
     "end_time": "2023-08-09T15:03:16.620177Z"
    }
   }
  },
  {
   "cell_type": "code",
   "execution_count": 11,
   "outputs": [],
   "source": [
    "list_of_no_pumping = find_videos_without_behavior(df,'Pumping')"
   ],
   "metadata": {
    "collapsed": false,
    "ExecuteTime": {
     "start_time": "2023-08-09T15:11:18.623279Z",
     "end_time": "2023-08-09T15:11:18.723340Z"
    }
   }
  },
  {
   "cell_type": "code",
   "execution_count": 15,
   "outputs": [
    {
     "data": {
      "text/plain": "                                              video_name  clip_index  \\\n75212  Fly05202022_5d_index_89_start_1526093_stop_152...           0   \n75213  Fly05202022_5d_index_89_start_1526093_stop_152...           1   \n75214  Fly05202022_5d_index_89_start_1526093_stop_152...           2   \n75215  Fly05202022_5d_index_89_start_1526093_stop_152...           3   \n75216  Fly05202022_5d_index_89_start_1526093_stop_152...           4   \n75217  Fly05202022_5d_index_89_start_1526093_stop_152...           5   \n75218  Fly05202022_5d_index_89_start_1526093_stop_152...           6   \n75219  Fly05202022_5d_index_89_start_1526093_stop_152...           7   \n75220  Fly05202022_5d_index_89_start_1526093_stop_152...           8   \n75221  Fly05202022_5d_index_89_start_1526093_stop_152...           9   \n75222  Fly05202022_5d_index_89_start_1526093_stop_152...          10   \n75223  Fly05202022_5d_index_89_start_1526093_stop_152...          11   \n75224  Fly05202022_5d_index_89_start_1526093_stop_152...          12   \n75225  Fly05202022_5d_index_89_start_1526093_stop_152...          13   \n75226  Fly05202022_5d_index_89_start_1526093_stop_152...          14   \n75227  Fly05202022_5d_index_89_start_1526093_stop_152...          15   \n75228  Fly05202022_5d_index_89_start_1526093_stop_152...          16   \n75229  Fly05202022_5d_index_89_start_1526093_stop_152...          17   \n75230  Fly05202022_5d_index_89_start_1526093_stop_152...          18   \n75231  Fly05202022_5d_index_89_start_1526093_stop_152...          19   \n75232  Fly05202022_5d_index_89_start_1526093_stop_152...          20   \n75233  Fly05202022_5d_index_89_start_1526093_stop_152...          21   \n75234  Fly05202022_5d_index_89_start_1526093_stop_152...          22   \n75235  Fly05202022_5d_index_89_start_1526093_stop_152...          23   \n75236  Fly05202022_5d_index_89_start_1526093_stop_152...          24   \n75237  Fly05202022_5d_index_89_start_1526093_stop_152...          25   \n75238  Fly05202022_5d_index_89_start_1526093_stop_152...          26   \n75239  Fly05202022_5d_index_89_start_1526093_stop_152...          27   \n75240  Fly05202022_5d_index_89_start_1526093_stop_152...          28   \n75241  Fly05202022_5d_index_89_start_1526093_stop_152...          29   \n75242  Fly05202022_5d_index_89_start_1526093_stop_152...          30   \n75243  Fly05202022_5d_index_89_start_1526093_stop_152...          31   \n75244  Fly05202022_5d_index_89_start_1526093_stop_152...          32   \n75245  Fly05202022_5d_index_89_start_1526093_stop_152...          33   \n75246  Fly05202022_5d_index_89_start_1526093_stop_152...          34   \n75247  Fly05202022_5d_index_89_start_1526093_stop_152...          35   \n75248  Fly05202022_5d_index_89_start_1526093_stop_152...          36   \n75249  Fly05202022_5d_index_89_start_1526093_stop_152...          37   \n75250  Fly05202022_5d_index_89_start_1526093_stop_152...          38   \n75251  Fly05202022_5d_index_89_start_1526093_stop_152...          39   \n\n      prediction   probs_0   probs_1   probs_2  \n75212    Feeding  0.774808  0.003453  0.221739  \n75213    Feeding  0.797782  0.002527  0.199691  \n75214    Feeding  0.777652  0.003420  0.218928  \n75215    Feeding  0.667221  0.005058  0.327721  \n75216    Feeding  0.839673  0.002828  0.157499  \n75217    Feeding  0.794604  0.002600  0.202796  \n75218    Feeding  0.722453  0.003281  0.274267  \n75219    Feeding  0.726233  0.004457  0.269310  \n75220    Feeding  0.785777  0.004023  0.210200  \n75221    Feeding  0.780031  0.004154  0.215815  \n75222    Feeding  0.806694  0.004009  0.189297  \n75223    Feeding  0.812422  0.003814  0.183765  \n75224    Feeding  0.738426  0.004787  0.256787  \n75225    Feeding  0.765073  0.003749  0.231178  \n75226    Feeding  0.722737  0.005486  0.271777  \n75227    Feeding  0.827398  0.003383  0.169220  \n75228    Feeding  0.750543  0.005625  0.243832  \n75229    Feeding  0.719327  0.004627  0.276047  \n75230    Feeding  0.740132  0.003358  0.256510  \n75231    Feeding  0.811539  0.002968  0.185493  \n75232    Feeding  0.800649  0.002981  0.196369  \n75233    Feeding  0.734507  0.003430  0.262063  \n75234    Feeding  0.689298  0.004042  0.306660  \n75235    Feeding  0.710462  0.004850  0.284688  \n75236    Feeding  0.696185  0.006306  0.297509  \n75237    Feeding  0.649728  0.007573  0.342699  \n75238    Feeding  0.671449  0.006104  0.322447  \n75239    Feeding  0.686097  0.006752  0.307151  \n75240    Feeding  0.751908  0.005748  0.242345  \n75241    Feeding  0.745114  0.005668  0.249217  \n75242    Feeding  0.733722  0.007587  0.258691  \n75243    Feeding  0.837109  0.005259  0.157632  \n75244    Feeding  0.737693  0.007268  0.255039  \n75245    Feeding  0.652716  0.008207  0.339078  \n75246    Feeding  0.737788  0.009508  0.252705  \n75247    Feeding  0.780767  0.006537  0.212696  \n75248    Feeding  0.792357  0.006229  0.201414  \n75249    Feeding  0.804036  0.005253  0.190711  \n75250    Feeding  0.690279  0.009948  0.299773  \n75251    Feeding  0.719901  0.006532  0.273567  ",
      "text/html": "<div>\n<style scoped>\n    .dataframe tbody tr th:only-of-type {\n        vertical-align: middle;\n    }\n\n    .dataframe tbody tr th {\n        vertical-align: top;\n    }\n\n    .dataframe thead th {\n        text-align: right;\n    }\n</style>\n<table border=\"1\" class=\"dataframe\">\n  <thead>\n    <tr style=\"text-align: right;\">\n      <th></th>\n      <th>video_name</th>\n      <th>clip_index</th>\n      <th>prediction</th>\n      <th>probs_0</th>\n      <th>probs_1</th>\n      <th>probs_2</th>\n    </tr>\n  </thead>\n  <tbody>\n    <tr>\n      <th>75212</th>\n      <td>Fly05202022_5d_index_89_start_1526093_stop_152...</td>\n      <td>0</td>\n      <td>Feeding</td>\n      <td>0.774808</td>\n      <td>0.003453</td>\n      <td>0.221739</td>\n    </tr>\n    <tr>\n      <th>75213</th>\n      <td>Fly05202022_5d_index_89_start_1526093_stop_152...</td>\n      <td>1</td>\n      <td>Feeding</td>\n      <td>0.797782</td>\n      <td>0.002527</td>\n      <td>0.199691</td>\n    </tr>\n    <tr>\n      <th>75214</th>\n      <td>Fly05202022_5d_index_89_start_1526093_stop_152...</td>\n      <td>2</td>\n      <td>Feeding</td>\n      <td>0.777652</td>\n      <td>0.003420</td>\n      <td>0.218928</td>\n    </tr>\n    <tr>\n      <th>75215</th>\n      <td>Fly05202022_5d_index_89_start_1526093_stop_152...</td>\n      <td>3</td>\n      <td>Feeding</td>\n      <td>0.667221</td>\n      <td>0.005058</td>\n      <td>0.327721</td>\n    </tr>\n    <tr>\n      <th>75216</th>\n      <td>Fly05202022_5d_index_89_start_1526093_stop_152...</td>\n      <td>4</td>\n      <td>Feeding</td>\n      <td>0.839673</td>\n      <td>0.002828</td>\n      <td>0.157499</td>\n    </tr>\n    <tr>\n      <th>75217</th>\n      <td>Fly05202022_5d_index_89_start_1526093_stop_152...</td>\n      <td>5</td>\n      <td>Feeding</td>\n      <td>0.794604</td>\n      <td>0.002600</td>\n      <td>0.202796</td>\n    </tr>\n    <tr>\n      <th>75218</th>\n      <td>Fly05202022_5d_index_89_start_1526093_stop_152...</td>\n      <td>6</td>\n      <td>Feeding</td>\n      <td>0.722453</td>\n      <td>0.003281</td>\n      <td>0.274267</td>\n    </tr>\n    <tr>\n      <th>75219</th>\n      <td>Fly05202022_5d_index_89_start_1526093_stop_152...</td>\n      <td>7</td>\n      <td>Feeding</td>\n      <td>0.726233</td>\n      <td>0.004457</td>\n      <td>0.269310</td>\n    </tr>\n    <tr>\n      <th>75220</th>\n      <td>Fly05202022_5d_index_89_start_1526093_stop_152...</td>\n      <td>8</td>\n      <td>Feeding</td>\n      <td>0.785777</td>\n      <td>0.004023</td>\n      <td>0.210200</td>\n    </tr>\n    <tr>\n      <th>75221</th>\n      <td>Fly05202022_5d_index_89_start_1526093_stop_152...</td>\n      <td>9</td>\n      <td>Feeding</td>\n      <td>0.780031</td>\n      <td>0.004154</td>\n      <td>0.215815</td>\n    </tr>\n    <tr>\n      <th>75222</th>\n      <td>Fly05202022_5d_index_89_start_1526093_stop_152...</td>\n      <td>10</td>\n      <td>Feeding</td>\n      <td>0.806694</td>\n      <td>0.004009</td>\n      <td>0.189297</td>\n    </tr>\n    <tr>\n      <th>75223</th>\n      <td>Fly05202022_5d_index_89_start_1526093_stop_152...</td>\n      <td>11</td>\n      <td>Feeding</td>\n      <td>0.812422</td>\n      <td>0.003814</td>\n      <td>0.183765</td>\n    </tr>\n    <tr>\n      <th>75224</th>\n      <td>Fly05202022_5d_index_89_start_1526093_stop_152...</td>\n      <td>12</td>\n      <td>Feeding</td>\n      <td>0.738426</td>\n      <td>0.004787</td>\n      <td>0.256787</td>\n    </tr>\n    <tr>\n      <th>75225</th>\n      <td>Fly05202022_5d_index_89_start_1526093_stop_152...</td>\n      <td>13</td>\n      <td>Feeding</td>\n      <td>0.765073</td>\n      <td>0.003749</td>\n      <td>0.231178</td>\n    </tr>\n    <tr>\n      <th>75226</th>\n      <td>Fly05202022_5d_index_89_start_1526093_stop_152...</td>\n      <td>14</td>\n      <td>Feeding</td>\n      <td>0.722737</td>\n      <td>0.005486</td>\n      <td>0.271777</td>\n    </tr>\n    <tr>\n      <th>75227</th>\n      <td>Fly05202022_5d_index_89_start_1526093_stop_152...</td>\n      <td>15</td>\n      <td>Feeding</td>\n      <td>0.827398</td>\n      <td>0.003383</td>\n      <td>0.169220</td>\n    </tr>\n    <tr>\n      <th>75228</th>\n      <td>Fly05202022_5d_index_89_start_1526093_stop_152...</td>\n      <td>16</td>\n      <td>Feeding</td>\n      <td>0.750543</td>\n      <td>0.005625</td>\n      <td>0.243832</td>\n    </tr>\n    <tr>\n      <th>75229</th>\n      <td>Fly05202022_5d_index_89_start_1526093_stop_152...</td>\n      <td>17</td>\n      <td>Feeding</td>\n      <td>0.719327</td>\n      <td>0.004627</td>\n      <td>0.276047</td>\n    </tr>\n    <tr>\n      <th>75230</th>\n      <td>Fly05202022_5d_index_89_start_1526093_stop_152...</td>\n      <td>18</td>\n      <td>Feeding</td>\n      <td>0.740132</td>\n      <td>0.003358</td>\n      <td>0.256510</td>\n    </tr>\n    <tr>\n      <th>75231</th>\n      <td>Fly05202022_5d_index_89_start_1526093_stop_152...</td>\n      <td>19</td>\n      <td>Feeding</td>\n      <td>0.811539</td>\n      <td>0.002968</td>\n      <td>0.185493</td>\n    </tr>\n    <tr>\n      <th>75232</th>\n      <td>Fly05202022_5d_index_89_start_1526093_stop_152...</td>\n      <td>20</td>\n      <td>Feeding</td>\n      <td>0.800649</td>\n      <td>0.002981</td>\n      <td>0.196369</td>\n    </tr>\n    <tr>\n      <th>75233</th>\n      <td>Fly05202022_5d_index_89_start_1526093_stop_152...</td>\n      <td>21</td>\n      <td>Feeding</td>\n      <td>0.734507</td>\n      <td>0.003430</td>\n      <td>0.262063</td>\n    </tr>\n    <tr>\n      <th>75234</th>\n      <td>Fly05202022_5d_index_89_start_1526093_stop_152...</td>\n      <td>22</td>\n      <td>Feeding</td>\n      <td>0.689298</td>\n      <td>0.004042</td>\n      <td>0.306660</td>\n    </tr>\n    <tr>\n      <th>75235</th>\n      <td>Fly05202022_5d_index_89_start_1526093_stop_152...</td>\n      <td>23</td>\n      <td>Feeding</td>\n      <td>0.710462</td>\n      <td>0.004850</td>\n      <td>0.284688</td>\n    </tr>\n    <tr>\n      <th>75236</th>\n      <td>Fly05202022_5d_index_89_start_1526093_stop_152...</td>\n      <td>24</td>\n      <td>Feeding</td>\n      <td>0.696185</td>\n      <td>0.006306</td>\n      <td>0.297509</td>\n    </tr>\n    <tr>\n      <th>75237</th>\n      <td>Fly05202022_5d_index_89_start_1526093_stop_152...</td>\n      <td>25</td>\n      <td>Feeding</td>\n      <td>0.649728</td>\n      <td>0.007573</td>\n      <td>0.342699</td>\n    </tr>\n    <tr>\n      <th>75238</th>\n      <td>Fly05202022_5d_index_89_start_1526093_stop_152...</td>\n      <td>26</td>\n      <td>Feeding</td>\n      <td>0.671449</td>\n      <td>0.006104</td>\n      <td>0.322447</td>\n    </tr>\n    <tr>\n      <th>75239</th>\n      <td>Fly05202022_5d_index_89_start_1526093_stop_152...</td>\n      <td>27</td>\n      <td>Feeding</td>\n      <td>0.686097</td>\n      <td>0.006752</td>\n      <td>0.307151</td>\n    </tr>\n    <tr>\n      <th>75240</th>\n      <td>Fly05202022_5d_index_89_start_1526093_stop_152...</td>\n      <td>28</td>\n      <td>Feeding</td>\n      <td>0.751908</td>\n      <td>0.005748</td>\n      <td>0.242345</td>\n    </tr>\n    <tr>\n      <th>75241</th>\n      <td>Fly05202022_5d_index_89_start_1526093_stop_152...</td>\n      <td>29</td>\n      <td>Feeding</td>\n      <td>0.745114</td>\n      <td>0.005668</td>\n      <td>0.249217</td>\n    </tr>\n    <tr>\n      <th>75242</th>\n      <td>Fly05202022_5d_index_89_start_1526093_stop_152...</td>\n      <td>30</td>\n      <td>Feeding</td>\n      <td>0.733722</td>\n      <td>0.007587</td>\n      <td>0.258691</td>\n    </tr>\n    <tr>\n      <th>75243</th>\n      <td>Fly05202022_5d_index_89_start_1526093_stop_152...</td>\n      <td>31</td>\n      <td>Feeding</td>\n      <td>0.837109</td>\n      <td>0.005259</td>\n      <td>0.157632</td>\n    </tr>\n    <tr>\n      <th>75244</th>\n      <td>Fly05202022_5d_index_89_start_1526093_stop_152...</td>\n      <td>32</td>\n      <td>Feeding</td>\n      <td>0.737693</td>\n      <td>0.007268</td>\n      <td>0.255039</td>\n    </tr>\n    <tr>\n      <th>75245</th>\n      <td>Fly05202022_5d_index_89_start_1526093_stop_152...</td>\n      <td>33</td>\n      <td>Feeding</td>\n      <td>0.652716</td>\n      <td>0.008207</td>\n      <td>0.339078</td>\n    </tr>\n    <tr>\n      <th>75246</th>\n      <td>Fly05202022_5d_index_89_start_1526093_stop_152...</td>\n      <td>34</td>\n      <td>Feeding</td>\n      <td>0.737788</td>\n      <td>0.009508</td>\n      <td>0.252705</td>\n    </tr>\n    <tr>\n      <th>75247</th>\n      <td>Fly05202022_5d_index_89_start_1526093_stop_152...</td>\n      <td>35</td>\n      <td>Feeding</td>\n      <td>0.780767</td>\n      <td>0.006537</td>\n      <td>0.212696</td>\n    </tr>\n    <tr>\n      <th>75248</th>\n      <td>Fly05202022_5d_index_89_start_1526093_stop_152...</td>\n      <td>36</td>\n      <td>Feeding</td>\n      <td>0.792357</td>\n      <td>0.006229</td>\n      <td>0.201414</td>\n    </tr>\n    <tr>\n      <th>75249</th>\n      <td>Fly05202022_5d_index_89_start_1526093_stop_152...</td>\n      <td>37</td>\n      <td>Feeding</td>\n      <td>0.804036</td>\n      <td>0.005253</td>\n      <td>0.190711</td>\n    </tr>\n    <tr>\n      <th>75250</th>\n      <td>Fly05202022_5d_index_89_start_1526093_stop_152...</td>\n      <td>38</td>\n      <td>Feeding</td>\n      <td>0.690279</td>\n      <td>0.009948</td>\n      <td>0.299773</td>\n    </tr>\n    <tr>\n      <th>75251</th>\n      <td>Fly05202022_5d_index_89_start_1526093_stop_152...</td>\n      <td>39</td>\n      <td>Feeding</td>\n      <td>0.719901</td>\n      <td>0.006532</td>\n      <td>0.273567</td>\n    </tr>\n  </tbody>\n</table>\n</div>"
     },
     "execution_count": 15,
     "metadata": {},
     "output_type": "execute_result"
    }
   ],
   "source": [
    "df[df['video_name'] == 'Fly05202022_5d_index_89_start_1526093_stop_1527381.mp4']"
   ],
   "metadata": {
    "collapsed": false,
    "ExecuteTime": {
     "start_time": "2023-08-09T15:16:50.639005Z",
     "end_time": "2023-08-09T15:16:50.649003Z"
    }
   }
  },
  {
   "cell_type": "code",
   "execution_count": 12,
   "outputs": [],
   "source": [
    "source_folder = r'Y:\\DeepSleepPaperData\\Annotated\\PredictedVideos\\Pumping_Predicted_Analysis'"
   ],
   "metadata": {
    "collapsed": false,
    "ExecuteTime": {
     "start_time": "2023-08-09T15:11:18.965665Z",
     "end_time": "2023-08-09T15:11:18.973611Z"
    }
   }
  },
  {
   "cell_type": "code",
   "execution_count": 13,
   "outputs": [
    {
     "name": "stdout",
     "output_type": "stream",
     "text": [
      "Moved Fly05202022_5d_index_6_start_276797_stop_280018.mp4 to no_predicted_Pumping folder.\n",
      "Moved Fly05202022_5d_index_89_start_1526093_stop_1527381.mp4 to no_predicted_Pumping folder.\n",
      "Moved Fly05202022_5d_index_90_start_1534774_stop_1536740.mp4 to no_predicted_Pumping folder.\n",
      "Moved Fly05202022_5d_index_93_start_1618729_stop_1620754.mp4 to no_predicted_Pumping folder.\n",
      "Moved Fly05222022_5d_index_2_start_278237_stop_279554.mp4 to no_predicted_Pumping folder.\n",
      "Moved Fly06072022_5d_index_7_start_353056_stop_354193.mp4 to no_predicted_Pumping folder.\n",
      "Moved Fly06142022_SD_5d_index_17_start_337469_stop_338598.mp4 to no_predicted_Pumping folder.\n",
      "Moved Fly06142022_SD_5d_index_20_start_366662_stop_368670.mp4 to no_predicted_Pumping folder.\n",
      "Moved Fly06142022_SD_5d_index_21_start_407967_stop_409759.mp4 to no_predicted_Pumping folder.\n",
      "Moved Fly06142022_SD_5d_index_22_start_474963_stop_476848.mp4 to no_predicted_Pumping folder.\n",
      "Moved Fly06142022_SD_5d_index_23_start_525421_stop_526845.mp4 to no_predicted_Pumping folder.\n",
      "Moved Fly06152022_6d_index_38_start_1067034_stop_1068137.mp4 to no_predicted_Pumping folder.\n",
      "Moved Fly06152022_6d_index_6_start_259070_stop_260642.mp4 to no_predicted_Pumping folder.\n",
      "Moved Fly06182022_4d_index_2_start_252490_stop_253738.mp4 to no_predicted_Pumping folder.\n",
      "Moved Fly06212022_5d_index_0_start_346710_stop_347854.mp4 to no_predicted_Pumping folder.\n",
      "Moved Fly06212022_5d_index_9_start_844362_stop_845998.mp4 to no_predicted_Pumping folder.\n",
      "Moved Fly06232022_5d_B_SD_index_0_start_140731_stop_141856.mp4 to no_predicted_Pumping folder.\n",
      "Moved Fly06232022_5d_B_SD_index_5_start_473991_stop_475280.mp4 to no_predicted_Pumping folder.\n",
      "Moved Fly06232022_5d_B_SD_index_8_start_561061_stop_562204.mp4 to no_predicted_Pumping folder.\n",
      "Moved Fly06242022_5_SD_A_index_13_start_210068_stop_211359.mp4 to no_predicted_Pumping folder.\n",
      "Moved Fly06252022_5d_SD_A_index_0_start_174313_stop_175848.mp4 to no_predicted_Pumping folder.\n",
      "Moved Fly06252022_5d_SD_B_index_3_start_211732_stop_212894.mp4 to no_predicted_Pumping folder.\n",
      "Moved Fly06272022_5d_A_index_2_start_90266_stop_91501.mp4 to no_predicted_Pumping folder.\n",
      "Moved Fly06272022_5d_A_index_62_start_1425533_stop_1426656.mp4 to no_predicted_Pumping folder.\n",
      "Moved Fly06272022_5d_SD_A_index_0_start_28369_stop_29482.mp4 to no_predicted_Pumping folder.\n",
      "Moved Fly06272022_5d_SD_A_index_12_start_277101_stop_278213.mp4 to no_predicted_Pumping folder.\n",
      "Moved Fly06272022_5d_SD_A_index_14_start_295919_stop_297816.mp4 to no_predicted_Pumping folder.\n",
      "Moved Fly06272022_5d_SD_A_index_15_start_303811_stop_306942.mp4 to no_predicted_Pumping folder.\n",
      "Moved Fly06272022_5d_SD_A_index_16_start_311563_stop_312903.mp4 to no_predicted_Pumping folder.\n",
      "Moved Fly06272022_5d_SD_A_index_17_start_314417_stop_315594.mp4 to no_predicted_Pumping folder.\n",
      "Moved Fly06272022_5d_SD_A_index_19_start_325886_stop_327228.mp4 to no_predicted_Pumping folder.\n",
      "Moved Fly06272022_5d_SD_A_index_20_start_327784_stop_329079.mp4 to no_predicted_Pumping folder.\n",
      "Moved Fly06272022_5d_SD_A_index_21_start_331277_stop_332488.mp4 to no_predicted_Pumping folder.\n",
      "Moved Fly06272022_5d_SD_A_index_22_start_337723_stop_339370.mp4 to no_predicted_Pumping folder.\n",
      "Moved Fly06282022_5d_B_index_23_start_748627_stop_749851.mp4 to no_predicted_Pumping folder.\n",
      "Moved Fly06282022_5d_B_index_31_start_903435_stop_905079.mp4 to no_predicted_Pumping folder.\n",
      "Moved Fly06282022_5d_B_index_32_start_915274_stop_917288.mp4 to no_predicted_Pumping folder.\n",
      "Moved Fly06282022_5d_B_index_33_start_949712_stop_951458.mp4 to no_predicted_Pumping folder.\n",
      "Moved Fly06282022_5d_B_index_38_start_1065793_stop_1067026.mp4 to no_predicted_Pumping folder.\n",
      "Moved Fly06282022_5d_B_index_64_start_1372751_stop_1374208.mp4 to no_predicted_Pumping folder.\n",
      "Moved Fly06282022_5d_B_index_65_start_1389965_stop_1391145.mp4 to no_predicted_Pumping folder.\n",
      "Moved Fly06282022_5d_SD_B_index_12_start_119891_stop_121135.mp4 to no_predicted_Pumping folder.\n",
      "Moved Fly06282022_5d_SD_B_index_13_start_124615_stop_125944.mp4 to no_predicted_Pumping folder.\n",
      "Moved Fly06282022_5d_SD_B_index_26_start_350888_stop_352084.mp4 to no_predicted_Pumping folder.\n",
      "Moved Fly06302022_5d_B_index_11_start_354728_stop_355843.mp4 to no_predicted_Pumping folder.\n",
      "Moved Fly06302022_5d_B_index_16_start_796648_stop_797776.mp4 to no_predicted_Pumping folder.\n",
      "Moved Fly06302022_5d_B_index_17_start_797983_stop_801363.mp4 to no_predicted_Pumping folder.\n",
      "Moved Fly06302022_5d_B_index_6_start_139149_stop_140581.mp4 to no_predicted_Pumping folder.\n",
      "Moved Fly06302022_5d_SD_B_index_44_start_300659_stop_303282.mp4 to no_predicted_Pumping folder.\n",
      "Moved Fly06302022_5d_SD_B_index_45_start_305080_stop_307016.mp4 to no_predicted_Pumping folder.\n",
      "Moved Fly06302022_5d_SD_B_index_48_start_320259_stop_321552.mp4 to no_predicted_Pumping folder.\n",
      "Moved Fly06302022_5d_SD_B_index_7_start_48010_stop_49396.mp4 to no_predicted_Pumping folder.\n",
      "Moved Fly06302022_5d_SD_B_index_8_start_49640_stop_53017.mp4 to no_predicted_Pumping folder.\n",
      "Moved Fly07012022_5d_A_index_11_start_60387_stop_62477.mp4 to no_predicted_Pumping folder.\n",
      "Moved Fly07012022_5d_A_index_12_start_64850_stop_67437.mp4 to no_predicted_Pumping folder.\n",
      "Moved Fly07012022_5d_A_index_13_start_69648_stop_70773.mp4 to no_predicted_Pumping folder.\n",
      "Moved Fly07012022_5d_A_index_20_start_96148_stop_97261.mp4 to no_predicted_Pumping folder.\n",
      "Moved Fly07012022_5d_A_index_49_start_630986_stop_632179.mp4 to no_predicted_Pumping folder.\n",
      "Moved Fly07012022_5d_B_index_28_start_1327222_stop_1328387.mp4 to no_predicted_Pumping folder.\n",
      "Moved Fly07012022_5d_B_index_36_start_1547220_stop_1548346.mp4 to no_predicted_Pumping folder.\n",
      "Moved Fly07012022_5d_B_index_40_start_1662088_stop_1663275.mp4 to no_predicted_Pumping folder.\n",
      "Moved Fly07052022_5d_SD_A_index_9_start_402844_stop_405432.mp4 to no_predicted_Pumping folder.\n",
      "Moved Fly07062022_5d_B_index_8_start_720908_stop_722401.mp4 to no_predicted_Pumping folder.\n",
      "Moved Fly07082022_5d_B_index_27_start_1069002_stop_1070581.mp4 to no_predicted_Pumping folder.\n",
      "Moved Fly07082022_5d_B_index_28_start_1092537_stop_1095150.mp4 to no_predicted_Pumping folder.\n",
      "Moved Fly07082022_5d_B_index_31_start_1505523_stop_1506676.mp4 to no_predicted_Pumping folder.\n",
      "Moved Fly07152022_4d_SD_A_index_22_start_197761_stop_198980.mp4 to no_predicted_Pumping folder.\n",
      "Moved Fly07152022_4d_SD_A_index_28_start_221558_stop_222664.mp4 to no_predicted_Pumping folder.\n",
      "Moved Fly07152022_4d_SD_A_index_29_start_226231_stop_227352.mp4 to no_predicted_Pumping folder.\n",
      "Moved Fly07152022_4d_SD_A_index_30_start_232444_stop_233621.mp4 to no_predicted_Pumping folder.\n",
      "Moved Fly07152022_4d_SD_A_index_58_start_448279_stop_449472.mp4 to no_predicted_Pumping folder.\n",
      "Moved Fly07182022_7d_SD_A_index_10_start_126401_stop_127512.mp4 to no_predicted_Pumping folder.\n",
      "Moved Fly07182022_7d_SD_A_index_11_start_152769_stop_153875.mp4 to no_predicted_Pumping folder.\n",
      "Moved Fly07182022_7d_SD_A_index_15_start_230365_stop_231464.mp4 to no_predicted_Pumping folder.\n",
      "Moved Fly07182022_7d_SD_A_index_16_start_235708_stop_236893.mp4 to no_predicted_Pumping folder.\n",
      "Moved Fly07182022_7d_SD_A_index_18_start_301918_stop_303035.mp4 to no_predicted_Pumping folder.\n",
      "Moved Fly07182022_7d_SD_A_index_19_start_366794_stop_367983.mp4 to no_predicted_Pumping folder.\n",
      "Moved Fly07182022_7d_SD_A_index_1_start_20792_stop_22055.mp4 to no_predicted_Pumping folder.\n",
      "Moved Fly07182022_7d_SD_A_index_20_start_368990_stop_370314.mp4 to no_predicted_Pumping folder.\n",
      "Moved Fly07182022_7d_SD_A_index_2_start_48876_stop_50068.mp4 to no_predicted_Pumping folder.\n",
      "Moved Fly07182022_7d_SD_A_index_3_start_51113_stop_52362.mp4 to no_predicted_Pumping folder.\n",
      "Moved Fly07182022_7d_SD_A_index_4_start_59893_stop_64576.mp4 to no_predicted_Pumping folder.\n",
      "Moved Fly07192022_5d_SD_B_index_12_start_364214_stop_366426.mp4 to no_predicted_Pumping folder.\n",
      "Moved Fly07212022_6d_SD_A_index_2_start_324033_stop_325144.mp4 to no_predicted_Pumping folder.\n",
      "Moved Fly07212022_6d_SD_A_index_3_start_325831_stop_326985.mp4 to no_predicted_Pumping folder.\n",
      "Moved Fly07212022_6d_SD_A_index_4_start_345670_stop_347074.mp4 to no_predicted_Pumping folder.\n",
      "Moved Fly07212022_6d_SD_A_index_5_start_367697_stop_368831.mp4 to no_predicted_Pumping folder.\n",
      "Moved Fly07222022_6d_SD_B_index_8_start_309526_stop_310812.mp4 to no_predicted_Pumping folder.\n",
      "Moved Fly07262022_6d_SD_A_index_10_start_306619_stop_308402.mp4 to no_predicted_Pumping folder.\n",
      "Moved Fly07262022_6d_SD_A_index_11_start_320359_stop_321481.mp4 to no_predicted_Pumping folder.\n",
      "Moved Fly07282022_6d_SD_A_index_21_start_215029_stop_219575.mp4 to no_predicted_Pumping folder.\n",
      "Moved Fly07282022_6d_SD_A_index_22_start_220019_stop_221174.mp4 to no_predicted_Pumping folder.\n",
      "Moved Fly07282022_6d_SD_A_index_29_start_261176_stop_262619.mp4 to no_predicted_Pumping folder.\n",
      "Moved Fly07282022_6d_SD_A_index_30_start_266244_stop_268520.mp4 to no_predicted_Pumping folder.\n",
      "Moved Fly07282022_6d_SD_A_index_31_start_274024_stop_275488.mp4 to no_predicted_Pumping folder.\n",
      "Moved Fly07282022_6d_SD_A_index_32_start_277670_stop_278751.mp4 to no_predicted_Pumping folder.\n",
      "Moved Fly07282022_6d_SD_A_index_33_start_279139_stop_280263.mp4 to no_predicted_Pumping folder.\n",
      "Moved Fly07282022_6d_SD_A_index_34_start_282158_stop_283350.mp4 to no_predicted_Pumping folder.\n",
      "Moved Fly07282022_6d_SD_A_index_35_start_290010_stop_291289.mp4 to no_predicted_Pumping folder.\n",
      "Moved Fly08022022_6d_SD_B_index_3_start_439906_stop_441017.mp4 to no_predicted_Pumping folder.\n",
      "Moved Fly08032022_6d_SD_B_index_11_start_262652_stop_263850.mp4 to no_predicted_Pumping folder.\n",
      "Moved Fly08032022_6d_SD_B_index_13_start_285451_stop_287223.mp4 to no_predicted_Pumping folder.\n",
      "Moved Fly08032022_6d_SD_B_index_14_start_287426_stop_288606.mp4 to no_predicted_Pumping folder.\n",
      "Moved Fly08032022_6d_SD_B_index_17_start_363687_stop_364981.mp4 to no_predicted_Pumping folder.\n",
      "Finished moving videos.\n"
     ]
    }
   ],
   "source": [
    "move_videos_to_new_folder(list_of_no_pumping,source_folder,'Pumping')"
   ],
   "metadata": {
    "collapsed": false,
    "ExecuteTime": {
     "start_time": "2023-08-09T15:11:19.429143Z",
     "end_time": "2023-08-09T15:11:20.057847Z"
    }
   }
  },
  {
   "cell_type": "code",
   "execution_count": null,
   "outputs": [],
   "source": [],
   "metadata": {
    "collapsed": false
   }
  }
 ],
 "metadata": {
  "kernelspec": {
   "display_name": "Python 3",
   "language": "python",
   "name": "python3"
  },
  "language_info": {
   "codemirror_mode": {
    "name": "ipython",
    "version": 2
   },
   "file_extension": ".py",
   "mimetype": "text/x-python",
   "name": "python",
   "nbconvert_exporter": "python",
   "pygments_lexer": "ipython2",
   "version": "2.7.6"
  }
 },
 "nbformat": 4,
 "nbformat_minor": 0
}
